{
 "nbformat": 4,
 "nbformat_minor": 2,
 "metadata": {
  "language_info": {
   "name": "python",
   "codemirror_mode": {
    "name": "ipython",
    "version": 3
   },
   "version": "3.7.4-final"
  },
  "orig_nbformat": 2,
  "file_extension": ".py",
  "mimetype": "text/x-python",
  "name": "python",
  "npconvert_exporter": "python",
  "pygments_lexer": "ipython3",
  "version": 3,
  "kernelspec": {
   "name": "python37464bitbaseconda1e0c91686aae43d9a876dfdafaecff22",
   "display_name": "Python 3.7.4 64-bit ('base': conda)"
  }
 },
 "cells": [
  {
   "cell_type": "markdown",
   "metadata": {},
   "source": [
    "# Setup"
   ]
  },
  {
   "cell_type": "code",
   "execution_count": 1,
   "metadata": {},
   "outputs": [],
   "source": [
    "import nltk"
   ]
  },
  {
   "cell_type": "code",
   "execution_count": 2,
   "metadata": {},
   "outputs": [
    {
     "output_type": "stream",
     "name": "stdout",
     "text": "NLTK version: 3.4.5\n"
    }
   ],
   "source": [
    "print('NLTK version: {}'.format(nltk.__version__))"
   ]
  },
  {
   "cell_type": "markdown",
   "metadata": {},
   "source": [
    "# Import files"
   ]
  },
  {
   "cell_type": "code",
   "execution_count": 3,
   "metadata": {},
   "outputs": [],
   "source": [
    "doc1 = '4_5_20_jackie_mac_kobe.txt' # Jackie Mac Kobe\n",
    "\n",
    "with open(doc1) as f:\n",
    "    doc1_lines = f.read().splitlines()\n",
    "\n",
    "with open(doc1) as f:\n",
    "    doc1_words = f.read().lower().split()"
   ]
  },
  {
   "cell_type": "code",
   "execution_count": 4,
   "metadata": {},
   "outputs": [],
   "source": [
    "doc2 = '4_16_20_goldsberry_mj.txt' # Goldsberry MJ\n",
    "\n",
    "with open(doc2) as f:\n",
    "    doc2_lines = f.read().splitlines()\n",
    "\n",
    "with open(doc2) as f:\n",
    "    doc2_words = f.read().lower().split()"
   ]
  },
  {
   "cell_type": "code",
   "execution_count": 5,
   "metadata": {},
   "outputs": [
    {
     "output_type": "execute_result",
     "data": {
      "text/plain": "list"
     },
     "metadata": {},
     "execution_count": 5
    }
   ],
   "source": [
    "type(doc1_lines)"
   ]
  },
  {
   "cell_type": "code",
   "execution_count": 6,
   "metadata": {},
   "outputs": [],
   "source": [
    "for line in doc1_lines:\n",
    "    if line == '':\n",
    "        doc1_lines.remove(line)"
   ]
  },
  {
   "cell_type": "code",
   "execution_count": 7,
   "metadata": {},
   "outputs": [
    {
     "output_type": "execute_result",
     "data": {
      "text/plain": "['BY THE TIME he was 14, Kobe Bryant had made up his mind: His quest for basketball greatness would be a solitary journey.',\n \"It was easier that way. He approached the game with such ferocity that it alarmed his friends, his teammates, even his family. It prompted others to shrink away, as if his obsession were a disease that might be contagious. He contracted it as a boy in Philadelphia, where he exhausted himself to keep up with older sisters Sharia and Shaya; it spread in Italy, where his father played professionally and an 8-year-old Kobe immersed himself in the game. By the time Bryant was a senior at Lower Merion High School outside Philadelphia, it had consumed him. He wasn't content with just beating his opponent. He needed to break him.\",\n \"He inflicted one humiliation after the next, dunking when a layup would do, scoring with such force against overmatched peers that he reduced them to tears. Subjected to admonishments and withering stares, Kobe concluded: I'm alone in this.\",\n 'In 1996, his rookie year with the Lakers, his teammates scoffed at the aloof teenager who treated every possession like Armageddon. When they said he was too serious about basketball, Kobe wondered how that was even possible. When they dubbed him Showboat, he sought out his general manager, Jerry West, who urged Kobe to resist style over substance. Showboat, West told him, was a moniker for guys who didn\\'t play the right way: \"Stop trying to do too much.\" West says what he did not do was condemn Kobe for being detached from his teammates. He couldn\\'t. \"Talk about an isolated teammate,\" West recalls, \"I was much the same way.\"',\n \"Flash forward to the summer following his rookie season, and Bryant is lifting weights at Gold's Gym in Venice, California, desperate to chisel his adolescent frame into a man-sized body. He's balancing a barbell on his shoulders when his Nextel cellphone rings midsquat. He almost lets it go to voicemail, but curiosity wins out.\"]"
     },
     "metadata": {},
     "execution_count": 7
    }
   ],
   "source": [
    "doc1_lines[:5]"
   ]
  },
  {
   "cell_type": "code",
   "execution_count": 8,
   "metadata": {},
   "outputs": [
    {
     "output_type": "execute_result",
     "data": {
      "text/plain": "['by', 'the', 'time', 'he', 'was', '14,', 'kobe', 'bryant', 'had', 'made']"
     },
     "metadata": {},
     "execution_count": 8
    }
   ],
   "source": [
    "doc1_words[:10]"
   ]
  },
  {
   "cell_type": "code",
   "execution_count": 9,
   "metadata": {},
   "outputs": [
    {
     "output_type": "execute_result",
     "data": {
      "text/plain": "[\"ON APRIL 27, 1997, Chris Webber and the Washington Bullets were visiting the Chicago Bulls for Game 2 of their first-round playoff series. It didn't go well.\",\n '',\n \"Michael Jordan went off, scoring 55 points, equaling his highest output since he returned from retirement in 1995. It was an amazing display, but how he did it was telling. MJ didn't nibble around the edges or hunt foul calls all night. He made just one 3-pointer. He had 10 points at the line. He scored 42 on 2-point field goals alone.\",\n '',\n 'Check out all those red dots in the midrange in this vintage NBC shot chart:']"
     },
     "metadata": {},
     "execution_count": 9
    }
   ],
   "source": [
    "doc2_lines[:5]"
   ]
  },
  {
   "cell_type": "code",
   "execution_count": 10,
   "metadata": {},
   "outputs": [
    {
     "output_type": "execute_result",
     "data": {
      "text/plain": "['on',\n 'april',\n '27,',\n '1997,',\n 'chris',\n 'webber',\n 'and',\n 'the',\n 'washington',\n 'bullets']"
     },
     "metadata": {},
     "execution_count": 10
    }
   ],
   "source": [
    "doc2_words[:10]"
   ]
  },
  {
   "cell_type": "markdown",
   "metadata": {},
   "source": [
    "# Check word counts"
   ]
  },
  {
   "cell_type": "code",
   "execution_count": 11,
   "metadata": {},
   "outputs": [
    {
     "output_type": "stream",
     "name": "stdout",
     "text": "by:15\nthe:154\ntime:7\nhe:60\nwas:34\n14,:1\nkobe:44\nbryant:49\nhad:17\nmade:7\nup:4\nhis:58\nmind::1\nquest:1\nfor:28\nbasketball:3\ngreatness:1\nwould:11\nbe:14\na:78\nsolitary:1\njourney.:1\nit:31\neasier:1\nthat:29\nway.:1\napproached:1\ngame:3\nwith:34\nsuch:4\nferocity:1\nalarmed:1\nfriends,:1\nteammates,:2\neven:4\nfamily.:1\nprompted:2\nothers:2\nto:103\nshrink:1\naway,:1\nas:20\nif:7\nobsession:1\nwere:8\ndisease:1\nmight:4\ncontagious.:1\ncontracted:1\nboy:2\nin:57\nphiladelphia,:2\nwhere:4\nexhausted:1\nhimself:5\nkeep:3\nolder:1\nsisters:1\nsharia:1\nand:70\nshaya;:1\nspread:1\nitaly,:2\nfather:1\nplayed:2\nprofessionally:1\nan:18\n8-year-old:2\nimmersed:1\ngame.:1\nsenior:2\nat:19\nlower:1\nmerion:1\nhigh:2\nschool:2\noutside:2\nconsumed:1\nhim.:9\nwasn't:3\ncontent:1\njust:8\nbeating:1\nopponent.:1\nneeded:1\nbreak:2\ninflicted:1\none:8\nhumiliation:1\nafter:10\nnext,:1\ndunking:1\nwhen:15\nlayup:1\ndo,:1\nscoring:1\nforce:1\nagainst:3\novermatched:1\npeers:1\nreduced:1\nthem:8\ntears.:1\nsubjected:1\nadmonishments:1\nwithering:1\nstares,:1\nconcluded::1\ni'm:4\nalone:1\nthis.:1\n1996,:1\nrookie:2\nyear:1\nlakers,:1\nteammates:5\nscoffed:1\naloof:1\nteenager:1\nwho:15\ntreated:1\nevery:4\npossession:1\nlike:7\narmageddon.:1\nthey:14\nsaid:1\ntoo:7\nserious:1\nabout:12\nbasketball,:1\nwondered:1\nhow:17\npossible.:1\ndubbed:2\nhim:12\nshowboat,:2\nsought:1\nout:8\ngeneral:1\nmanager,:1\njerry:2\nwest,:1\nurged:1\nresist:1\nstyle:1\nover:7\nsubstance.:1\nwest:5\ntold:5\nhim,:2\nmoniker:1\nguys:3\ndidn't:3\nplay:2\nright:4\nway::1\n\"stop:1\ntrying:1\ndo:8\nmuch.\":1\nsays:3\nwhat:11\ndid:4\nnot:8\ncondemn:1\nbeing:4\ndetached:1\nfrom:12\nteammates.:1\ncouldn't.:1\n\"talk:1\nisolated:2\nteammate,\":1\nrecalls,:1\n\"i:10\nmuch:2\nsame:5\nway.\":1\nflash:1\nforward:1\nsummer:2\nfollowing:3\nseason,:3\nis:34\nlifting:1\nweights:1\ngold's:3\ngym:2\nvenice,:1\ncalifornia,:2\ndesperate:1\nchisel:1\nadolescent:1\nframe:1\ninto:6\nman-sized:1\nbody.:1\nhe's:3\nbalancing:1\nbarbell:1\non:18\nshoulders:1\nnextel:1\ncellphone:3\nrings:1\nmidsquat.:1\nalmost:1\nlets:1\ngo:3\nvoicemail,:1\nbut:13\ncuriosity:2\nwins:1\nout.:1\n\"hi,:1\nit's:11\nmichael,\":1\nvoice:2\nline:2\nsays.:20\n\"michael:3\nwho?\":1\njackson.\":1\nincredulous.:1\nhas:13\nnever:7\nspoken:2\nmichael:13\njackson:25\nbefore.:1\ndoesn't:2\nsound:2\nking:1\nof:66\npop;:1\nlower,:1\nsubdued,:1\ndevoid:1\nchildlike:2\nwhisper:1\nuses:1\nonstage.:1\n\"he's:1\ncalling:1\nme:3\nf------:1\nblue,\":1\nremembers:1\nnow.:1\ndon't:3\nthink:3\nreal:1\nphone:5\ncall.\":2\nis.:3\nturns:1\nbeen:5\nstudying:1\nyoung:3\nafar,:1\ncalled:2\noffer:1\nadvice,:1\nidiosyncratic:1\nphenom:1\nanother.:1\n\"keep:1\ndoing:1\nyou're:1\ndoing,\":1\nimplores:1\n\"don't:1\ncome:3\nback:4\npack:1\nnormal:1\nsake:1\nblending:1\nothers.:1\ndumb:1\ndown.\":1\nconversation:3\nlasts:1\nno:4\nmore:5\nthan:5\n15:1\nminutes,:2\ntwo:6\nmen:3\nclick.:1\nclearly:2\nknows:1\nnba,:1\nrattling:1\noff:6\nstring:1\nlakers:11\nfactoids.:1\nkobe,:2\nfan:1\nmichael's:2\nmusic,:2\nquestions:2\nown.:2\ntumbling:1\nout::1\nyour:11\nearly:3\ninfluences?:1\nyou:20\nmake:2\nthriller?:1\nbuy:1\ncatalog:1\nbeatles':1\nmusic?:1\ninvites:1\njoin:1\nneverland:5\nranch:4\nso:9\ncan:2\ntrade:1\nnotes:1\napproach:1\ntheir:7\ncrafts,:1\n18-year-old:1\njumps:1\nchance.:1\nranch,:1\nlos:1\nolivos,:1\ntwo-and-a-half-hour:1\ndrive:2\nbryant's:6\nhome:2\npacific:2\npalisades:2\nthrough:6\nrolling:1\nhills:1\ncanyons.:1\nmisjudges:1\ndistance,:1\narriving:1\nnearly:2\ngas.:1\nworry,:1\nsays,:6\nfill:1\nmy:8\nprivate:4\ngas:2\nstation.:1\n2,700-acre:1\ncornucopia:1\ndelights,:1\nalso:1\nboasts:1\namusement:1\npark:1\nferris:1\nwheel,:1\nroller:1\ncoaster,:1\npetting:1\nzoo:1\nhousing:1\nllama,:1\norangutans,:1\nelephant:1\ngiraffes,:1\nsteam:1\nengine:1\nnamed:1\njackson's:8\nmother,:2\nkatherine.:1\ninside:1\nfrench:1\nnormandy:1\nresidence,:1\nshare:2\nmeal:1\nmarinated:1\nchicken:1\norganic:1\nvegetables.\"he:1\nme,:4\n'this:1\nlove.:1\nthis:4\nobsession,'\":1\nrecalls.:1\n\"he:8\nsaid,:3\n'i:2\nknow:4\ndifferent.:1\nembrace:1\nit.'\":1\ndinner,:1\npresents:1\ngift,:2\ncopy:1\njonathan:2\nlivingston:2\nseagull,:1\nnovella:1\noutcast:1\nbird:4\nwho's:2\nunwilling:1\nconform.:1\nthen:7\nhalf:1\nmile:1\n5,500-square-foot:1\ntheater,:1\nadorned:1\nbillboards:1\nold:3\nfilms,:1\nflowing:1\nfountain:1\nconcession:1\nstand:1\nstocked:1\nboxed:1\ntreats:1\ncotton:1\ncandy.:1\ntheater:1\nstate-of-the-art:1\nsystem,:1\nplush:1\nvelvet:1\nseats:1\ntrapdoors:1\nmagic:8\nshows.:1\nheard:2\ngrace:1\nkelly,:1\nfred:1\nastaire:1\nor:3\nginger:1\nrogers,:1\nduring:3\nfilm:1\nshowing:1\nwork,:1\nexplains:1\ninspiration:1\n1988:1\n\"smooth:1\ncriminal\":1\nmusic:1\nvideo:1\ndescribes:1\nlineage:1\nbreaking:1\ndown:2\nsongs:1\nnote:1\nnote,:1\ntaking:1\nprocess:1\nrecording:1\n\"billie:1\njean.\":1\ntells:8\ntransfixed:1\nsuccess:2\nbeatles,:1\ninitiated:1\nfriendships:1\npaul:1\nmccartney:1\nyoko:1\nono:1\nlearn:3\nmore.:1\ngreatest:1\nuse:3\nexpand:1\nscope.:1\nordinary:1\npeople:2\nwon't:2\nunderstand:1\ninsatiable:1\nthirst:1\nexcellence.:1\nbother:1\nstriving:1\nbecause:5\nonerous,:1\ndifficult.:1\neditor's:1\npicks:1\nhall:2\nfame:2\nclass:1\n2020::1\ncomplete:1\ncoverage:1\nwhich:3\nactive:1\nplayers:5\nare:6\nheaded:1\nhall?:1\nour:1\nchoice:1\nnba:6\nteam:2\n\"you've:2\ngot:5\nstudy:1\nall:9\ngreats,\":1\nkobe.:2\nsuccessful:1\nunsuccessful.\":1\ndrives:1\nsanta:1\nbarbara:1\ncounty:1\n--:17\nfull:1\ntank:1\ncar:1\nfront:1\nseat:1\ncluttered:1\ncopies:1\nclassic:1\nmovies:1\ngiven:1\nhim::1\namerican:1\nparis,:1\nsinging:1\nrain,:1\nfarewell:1\nconcubine.:1\nkobe's:3\nhomework,:1\nalong:1\nadditional:1\nreading:1\nassignment::1\nnapoleon:1\nhill's:1\npositive:1\nmental:1\nattitude.:1\narrives:2\nwell:1\nmidnight:1\nstays:1\nnight:2\ndevouring:1\nofferings.:1\nprovided:1\nform:3\nmovies,:1\npop:2\npsychology:1\ndated:1\nself-help:1\nbooks:2\ninvitation:2\nshape:1\ngreatest,:1\nmost:2\ncontroversial,:1\ncareers:1\nhistory.:1\ngenius,:1\nthief.:1\nfirst:5\nperson:1\nsay:2\nmuch.:1\npilfered:1\noscar:2\nrobertson's:1\npump:1\nfake,:1\nswiped:1\nwest's:1\nquick:1\nrelease,:1\ncopied:1\nelgin:1\nbaylor's:1\nfootwork.:1\nbig:3\nheist:1\ncouldn't:3\nquite:1\npull:1\nyears:10\njordan's:1\npatented:1\nfadeaway.:1\ndec.:1\n17,:1\n1997,:1\nsecond:3\nhave:10\nlost:2\n104-83:1\nlone:1\ntrip:2\nchicago,:1\nbounding:1\nbench:1\nscore:3\n33:1\npoints:1\n29:1\nmatching:1\noutput:1\nentire:1\nstarting:1\nlineup.:1\ngame,:2\njordan,:2\nfew:2\nmonths:2\nshy:1\n35,:1\napproaches:2\nbryant::2\n\"if:2\never:2\nneed:3\nanything,:2\ngive:1\nadvice:1\nstill:3\nfresh:1\nmind,:1\n19-year:1\npounces,:1\npeppering:1\njordan:13\nthere:4\nfallaway.:1\ndetermine:1\nrelease:1\npoint?:1\nmisdirection:1\ncritical:2\ncreating:1\nspace?:1\nrecognized:2\nsome:2\nme,\":2\nunderstood:1\nwe:4\nscary:1\ntype.\":1\nfact:1\nmet:1\nbefore,:1\nattended:1\nbulls-sixers:1\nspectrum:1\nmarch:1\n1996.:1\njulius:1\nerving:1\n(who:1\nfather,:1\njoe:1\n\"jelly:1\nbean\":1\nbryant,:4\nsixers):1\nchatted:1\ncorridor,:1\njoined:1\nconversation.:2\nboth:6\nturning:1\npro:1\njune,:2\nleft,:1\ndr.:1\nj:1\nexchanged:1\nknowing:1\nglances.:1\nkid:1\nintensity:2\nwell.:1\npart,:1\nleft:1\nconvinced:1\ndiscovered:1\nkindred:1\nspirits.:1\nlittle:2\npsychopath,\":1\nobsessed:1\nwere.\":1\nstart:1\n1998-99:1\nseason:1\ndelayed:1\nlabor:1\ndispute,:1\nallows:1\nreach:3\nagain,:1\nseries:1\npointed:1\ncontaining:1\nbigger:2\npost:1\nlikes:1\nlatrell:1\nsprewell,:1\nmitch:1\nrichmond,:1\njimmy:1\nbryon:1\nrussell,:1\nstronger:1\nphysical:1\ntutors:1\nkobe::1\nhold:1\noff,:1\npush:1\nweak:1\nside,:1\nfool:1\nthinking:1\nclear:1\nlane,:1\nplayer:1\ncan't:4\nfeel:1\ndefense:1\n\"they:1\nfundamental:1\nthings,\":1\n\"obviously:1\nthings:1\nlearned:1\ncarolina:1\nunder:1\ngreat:4\ntutelage:1\ndean:1\nsmith.:1\ni:9\nthat.:1\nspeaking:1\nmj:1\ngetting:3\nown:3\ncollege:1\neducation:1\nhighest:1\nlevel.\":1\ndecades,:1\ncontinue:1\ntopics:1\nranging:1\nweight:1\nexpectation:1\nprotection:1\nprivacy:1\nfamously:2\nmonomaniacal:1\nchampion:1\nadvising:1\nvery:1\nman:4\nwanted:1\nbetter:3\ntunnel:1\nvision:1\nonly:3\nwinning,:1\nother:4\npeople's:1\nperception:1\nyou,\":1\n\"you:1\nwhat?:2\ncare:1\nless.\":1\nlater,:6\n2000,:1\nwon:2\ntitle:1\nanticipates:1\nextended:1\nrun:1\nteammate:2\noccasional:1\nfoil:1\nshaquille:1\no'neal,:1\nfeasts:1\nbill:4\nrussell's:1\nbook:3\nwind,:1\nmarking:1\npages:1\ntouch:2\nupon:1\nrace,:1\nteamwork:1\ncoaching:1\nphilosophies.:1\nmentions:1\njackson,:2\nwhom:1\nspeaks:1\nleast:1\nonce:4\nmonth,:1\nicon:1\nurges:2\ncenter,:1\nwinner:1\n11:1\nchampionships:2\n13:1\nseasons:1\nceltics.:1\n\"people:1\n'bill:1\nrussell:5\nscore,'\":1\naugust.:1\n\"well,:1\ncould:6\nplenty,:1\nit,:1\nlet:3\nit.:3\nsometimes:1\nstep:2\nallow:1\nforward.\":1\ndrops:1\ngem:1\nwilt:6\nchamberlain,:1\nrival:1\nlongtime:1\nfriend.:1\ntimes,:1\nhe'd:4\nscore.:1\n\"bill:1\nwant:2\nactivate:1\nwilt,\":1\nfelt:2\ndefended:1\nwell,:1\ntake:2\nchallenge.:1\ndid,:1\ngoing:4\ndemolish:1\nphysically:1\nstrong.:1\nappease:1\nwilt,:1\nwhile,:1\nremain:1\nsatisfied:1\nbay.\":1\ntucks:1\nmemory:1\nbank.:1\n\"i'm:1\nthinking,:1\n'that's:1\nart:1\nwar:1\ns---.:1\ntry:1\nthat.'\":1\nrefuses:1\nname:1\nused:2\nstrategy:1\nagainst.:1\nformer:1\ncoaches:1\ncompunction,:1\nnaming:1\ntracy:1\nmcgrady:1\nand,:1\nlebron:1\njames:1\nrope-a-doped.:1\nasked:2\nconfirm:2\nnames,:1\nlaughs.:1\nwill:3\nneither:1\ndeny,\":1\n2000:1\n2002,:1\nwin:1\nthree:3\nstraight:1\ntitles,:1\ntop:1\nworld:1\n23:1\nold.:1\n2001,:1\nreleases:1\n10th:1\nstudio:1\nalbum,:1\ninvincible,:1\nsells:1\n10:2\nmillion:1\ncopies.:1\nwas,:2\nunbeknownst:1\nthem,:2\nbeginning:1\nmutual:1\nend.:1\nadvance:1\nwestern:1\nconference:1\nsemis:1\n2003:1\nlose:1\nspurs:1\nsix:2\ngames.:1\nroughly:1\nmonth:1\nclandestinely:1\neagle,:1\ncolorado,:1\narthroscopic:1\nsurgery:1\nknee:1\nsteadman:1\nclinic:1\nlater:4\narrested:1\nsexually:1\nassaulting:1\n19-year-old:1\nhotel:1\nworker,:1\nclaims:1\nsuperstar:1\nraped:1\nher:2\nwhile:1\nthere.:2\nfive:1\nformally:2\ncharged:2\nseven:1\ncounts:1\nsexual:2\nabuse,:1\nresult:1\nallegations:2\nspent:1\njackson.:1\nis,:1\nfact,:2\naccused:1\nillicit:1\nacts:1\nunderage:1\nboys;:1\nfirst,:1\nprior,:1\nwent:2\ntrial.:1\nseem:1\nplausible:1\nthese:1\nparallel:1\nevents:1\ndraw:1\ncloser,:1\ndisgraced:1\nicons:1\nunited:1\nscandal.:1\nopposite:1\noccurs.:1\nbrace:1\nthemselves:1\nlegal:1\ntroubles:1\npr:1\nnightmares:1\nfollow.:1\ncharges:3\nhorrific.:1\nisn't:2\nmatter:2\nsullied:1\nreputations;:1\nconvicted,:1\nface:2\nlengthy:1\nprison:1\nsentences.:1\nunspoken:1\nconclusion::1\ncontinued:2\nfriendship:1\nfuel:1\nongoing:1\nfirestorm.:1\n\"it:3\ncrazy,\":1\n\"we:2\nkinda:1\n...:1\nissues.\":1\njuly:1\n4,:1\n2003,:1\nassault:1\nreleased:1\n$25,000:1\nbond.:1\nendorsements:1\nevaporate.:1\nthough:1\ndropped:1\nsettles:1\ncivil:1\nsuit:1\nundisclosed:1\nsum:1\nrequires:1\napologize:1\nadmission:1\nguilt:1\nvictim:1\nfound:1\nguilty:1\njune:1\n13,:1\n2005,:1\nimages:1\nshattered.:1\ncrush:1\npublic:2\nbacklash:1\ndevastating:2\nblow:1\nrecovers.:1\nthough,:1\ngoes:1\nway,:1\nanointing:1\nnew:1\nnickname,:1\nblack:2\nmamba,:2\npoisonous:1\nsnake.:1\ntoday:2\nremains:1\nsteadfast:1\nsupport:1\n\"one:1\nreasons:1\nadmire:1\ntook:1\nnegative:1\nturned:1\npositive,\":1\nchanged:2\nlife.:1\ndedicate:1\nsure:2\nincident:1\ndefine:1\nhim.\":2\nhardly:2\nrepresents:1\nconventional:1\nsentiment.:1\nhatred:1\nhurled:1\narena.:1\nturn,:3\nrevels:1\nconcerned:1\nreaches:1\nout,:2\nimploring:1\ntap:1\nhumility:1\nthing:4\nexists.:1\n\"find:1\nit,\":1\nsave:1\nyou.\":2\n8th:1\ngrade,:1\nwrote:1\nreport:1\nlew:1\nalcindor,:1\nbecome:1\nkareem:4\nabdul-jabbar.:1\nnine:1\nla,:1\nabdul-jabbar:2\napparition,:1\ndisconnected:1\nfranchise:1\nhelped:1\nlead:1\nglory.:1\nchanges:1\nhire:1\n2005:1\nwork:2\nandrew:1\nbynum.:1\nsuddenly,:1\naround:2\nday,:1\nlegend:3\narmed:1\nusual:1\narray:1\nquestions,:2\nveritable:1\nseagull.:1\nbridge:1\ngenerations:1\nbetween:1\nplaying:2\nrobertson:1\njohnson?:1\nbucks:1\nsustain:1\nits:1\n20-game:1\nwinning:2\nstreak:1\n1970-71:1\nchampionship:1\nseason?:1\nmesmerized:1\nkareem's:1\nphilosophies:1\nmind:1\nconnects:1\nbody:1\nstories:1\nsparring:1\nmartial:1\narts:1\nbruce:3\nlee.:1\n\"kareem:1\nfind:1\nhim,'\":1\n\"he'd:1\nhit:1\nhere,:1\nlunge:1\nhere:1\nagain.:2\nget:1\nhands:1\nexercise:1\nspacing,:1\nagility:2\nvision.\":1\ncomes:2\ncrave:1\ntalks:1\nabdul-jabbar,:1\nwhose:2\nreputation:1\nunapproachable:1\nstop:1\nbryant.:1\n\"so:1\naloof,\":1\n\"and:3\nsupposed:1\na--hole:1\nsteve:2\nkerr:1\ncry.:1\nme.:1\ncry:1\ntoo.\":1\nindeed:1\ndid.:2\nperhaps:1\nyou've:1\nlegendary:1\ntale:1\nelbowed:1\nsasha:1\nvujacic:2\n2004-05:1\npractice,:1\ncausing:1\nburst:1\ntears?:1\nincident,:1\ncalls:2\nseeking:1\ncounsel.:1\nwonders::1\ngone:1\nfar?:1\n\"sometimes:2\na--hole,\":1\nhate:1\nyou,:3\nluc:1\nlongley,:1\nkerr,:1\njud:1\nbuechler:1\nmultiple:1\nchampionships,:1\npretty:1\nunderstand.\":1\ncareer:2\nunfolds,:1\ncontinues:1\nseek:2\ninsight:1\npersonal:1\nmount:2\nrushmore:1\nlegends.:1\njohnson,:1\npart-owner:1\nmailbox:1\nproves:1\nperpetually:1\nfull.:1\nwhatever:1\nreason,:1\ntrouble:1\nwinter:1\n2009,:1\ncoming:1\ncrushing:1\nfinals:1\nloss:2\nceltics:3\nprevious:1\nhours:1\npractice:1\nfacility:1\ndiscovers:1\nsitting:1\nbreakfast:1\nroom.:1\nsit:1\ntogether,:1\nalone,:1\nhours,:2\nchastising:1\npress,:1\nchallenging:1\ninfluence:2\ncommunity.:1\nbreakthrough:1\nmoment:1\nus,\":1\n\"at:2\ntime,:1\nsaying,:1\n'i'm:1\njob,:1\nout.':1\n'no,:1\nthat.':1\n'what:1\nlegacy:1\nlook:1\nlike?:1\nkilling:1\neverybody.'\":1\nlistens,:1\ncounters.:1\n\"my:1\npersonality:1\nyours.'\":1\n\"that's:1\nfine,\":1\n\"nobody's:1\nsaying:2\nsmiling,:1\nhugging:1\npeople.:1\nthat's:2\nyou.:1\nstay:1\neffect:1\nchange:2\nbasking:1\nglow:1\nfourth:1\nchampionship,:1\nvictory:1\ndwight:1\nhoward:1\nmagic,:1\njingles.:1\ncall:3\nkatherine,:1\nhappy:1\nson:1\n\"proven:1\neveryone:1\nwrong.\":1\nalthough:1\nhasn't:1\nyears,:1\nkatherine:1\nplanning:1\ncomeback:1\ntour,:1\nwants:2\nexperience.:1\nready:1\nrehearse:1\nforum,\":1\ntalked:1\nwatching:1\neach:2\ntrain:1\nprepare.\":1\ninstead,:1\ndays:2\nreads:1\nbreaking-news:1\ncrawl:1\ntv,:1\ninforming:1\ndied.:1\nprobably:1\nbiggest:1\nmentor:1\ni've:1\nhad,\":1\n\"that:1\nliterally:1\nlife.\":1\n\"greatest:1\nlife\":1\ngone.:1\nyet:1\nbizarre:1\ntroubling:1\nbehavior:1\nfinal:1\nshadow:1\nsavant:1\nsummoned:1\ndecade:1\nbefore:2\ndoes:1\nnothing:1\nopinion:1\nnormal,\":1\n\"most:1\ngeniuses:1\naren't.\":1\nsummer,:1\nnow:1\n31,:1\nnotices:1\nlift:1\nexplosive:1\nwas.:1\npops:1\nopen:1\nlaptop:1\nemails:1\nrockets:1\nhakeem:1\nolajuwon,:2\nmaster:1\nlow:1\npost.:2\nmentioned:1\nolajuwon:3\nthought:1\nway:1\n[give:1\nme]:1\ncompliment.\":1\nflies:1\nolajuwon's:1\nkaty,:1\ntexas,:1\nplane.:1\nall::1\ndrop:1\nstep,:1\nfallaway,:1\ndream:2\nshake.:1\nfour:1\nimplements:1\nmoves,:1\ndrive,:2\nstop,:2\npivot,:2\nrelease.:2\nslow,:1\nmove:1\ndown.:1\nquickness:1\ncreate:1\nroom:1\nawkward:1\nnatural:1\nmovement,\":1\n\"but:1\ndone:1\nfluid.:1\nquickly:1\nunbelievable.\":1\nworked:1\nhoward,:1\nyao:1\nming:1\nlebron,:2\namong:1\nothers::1\n\"kobe:1\nfastest:1\nmost.\":1\nfamous:1\narrogance?:1\nego,:1\nranch.\":1\nlarry:1\ngolf:1\ncourse,:1\nhiatus:1\njob:1\npresident:1\npacers,:1\nrings.:1\n\"hey,:1\nminute?\":1\nalways:2\ncurious:1\nroutine,:1\npregame:1\npreparation,:1\noffseason:1\nconditioning.:1\nasks:1\nhandled:1\nperform:1\n(bird:1\n\"sissies\":1\n1984:1\nfinals.):1\n\"larry:1\n'you:1\nwhy:1\nindividual:1\nsports.'\":1\n2016,:1\n19:1\nunexpected:1\ngym,:1\naway:1\nretirement.:1\nlonger:1\nseeks:1\ngame's:1\nstars;:1\nanthony:1\ndavis,:1\nwestbrook,:1\nkevin:1\ndurant:1\nkyrie:1\nirving.:1\ngets:1\nthose:3\ncalls,:1\nthing::1\nask:1\nanother:1\ncarry:1\nlearn.:1\nsometimes,:1\nbelieve:1\nhow,:1\ncommitted:1\naccomplishments:1\ngreats:1\nmemory.:1\nthriller:1\nover,:1\nreciting:1\nlyrics:1\nthen,:1\n18:1\nold,:1\nbecomes:1\nmentor,\":1\nthat,:1\n'if:1\ncall.':1\nmean,:1\nseriously?:1\nsimply:1\ncannot:1\nf---:1\nup.\":1\nhaters:1\nargue:1\nshould:1\ngreater,:1\ncontend:1\ncommuning:1\nrushmore,:1\nengaged:1\nself-sabotage.:1\nsuperstar,:1\nunloved:1\nmany:1\nresented:1\nacolytes,:1\nspurned:1\nfans:1\nshaq.:1\nbegs:1\ndiffer.:1\nalone,\":1\ngame.\":1\n"
    }
   ],
   "source": [
    "freq_doc1 = nltk.FreqDist(doc1_words)\n",
    "\n",
    "for key, val in freq_doc1.items():\n",
    "    print(str(key) + ':' + str(val))"
   ]
  },
  {
   "cell_type": "code",
   "execution_count": 12,
   "metadata": {},
   "outputs": [
    {
     "output_type": "stream",
     "name": "stdout",
     "text": "on:9\napril:1\n27,:1\n1997,:4\nchris:2\nwebber:1\nand:45\nthe:131\nwashington:1\nbullets:2\nwere:9\nvisiting:1\nchicago:2\nbulls:6\nfor:12\ngame:5\n2:1\nof:53\ntheir:3\nfirst-round:1\nplayoff:1\nseries.:1\nit:16\ndidn't:7\ngo:2\nwell.:1\nmichael:5\njordan:37\nwent:3\noff,:1\nscoring:13\n55:2\npoints,:1\nequaling:1\nhis:34\nhighest:2\noutput:1\nsince:3\nhe:52\nreturned:1\nfrom:10\nretirement:1\nin:58\n1995.:1\nwas:32\nan:3\namazing:1\ndisplay,:1\nbut:14\nhow:4\ndid:4\ntelling.:1\nmj:6\nnibble:1\naround:2\nedges:1\nor:2\nhunt:1\nfoul:1\ncalls:1\nall:10\nnight.:1\nmade:8\njust:14\none:11\n3-pointer.:1\nhad:8\n10:2\npoints:4\nat:7\nline.:1\nscored:3\n42:1\n2-point:2\nfield:2\ngoals:2\nalone.:1\ncheck:1\nout:4\nthose:4\nred:1\ndots:1\nmidrange:13\nthis:5\nvintage:1\nnbc:1\nshot:11\nchart::1\n20:4\nbulls':3\n23:1\nfourth:1\nquarter:1\na:28\nclose:3\ngame.:4\nusage:1\nrate:1\nabsurd:1\n45%,:1\nefficient,:1\nneeding:1\n35:1\nshots:8\nto:38\nget:5\npoints.:1\nrest:1\n54:1\n43:1\nshots.:1\nthat:40\nseason,:3\nwon:5\nninth:1\ntitle:2\nfifth:1\nnba:11\nchampionship.:1\ntop:3\nbasketball:5\nworld.:2\nsomething:3\nelse:1\nhappened::1\nbegan:2\nrecording:1\nestimated:1\nx-y:1\nlocation:3\ndata.:1\nthat's:3\nwe:6\nknow:2\nwhile:4\nled:1\nleague:4\n1996-97,:2\nended:2\nup:4\ntied:1\n57th:1\npaint:1\n54th:1\n3s:1\nper:1\nlike:8\nversus:1\n2,:1\ndominated:1\nmidrange.:1\ndata:3\nset:1\nstage:1\nnew:2\nway:2\nevaluate:1\nplayers':1\nabilities.:1\npiece:1\n--:7\nwhich,:1\nvia:1\nnba,:3\nuses:1\naccess:1\nlocations:3\nnearly:1\nevery:5\nattempt:2\ndating:1\nback:5\n1996-97:1\nseason:2\n(five:1\nmj's:4\ngames:1\n1.4%:1\nleague-wide:1\nweren't:3\ntracked:1\nseason):1\nis:3\npossible:1\nthanks:2\ninitiative.:1\ntoday,:1\nhave:5\ntechnology:1\nallows:1\nus:4\ntrack:1\nmost:11\nintricate:1\non-court:1\ndetails:1\nany:2\nwasn't:2\ncase:1\nwhen:9\nplayed.:1\nafter:1\naccessing:1\nnba's:2\nhistorical:1\naccounting:1\nbrief:1\nuse:2\n22-foot:1\n3-point:3\nline:2\nbefore:5\nmoved:3\n23.75:1\nfeet:2\n1997-98,:1\ncan:6\nunderstand:2\nprowess:1\nfascinating:2\ndetail.:1\nmore:2\nthan:1\nyears:5\nretired,:1\nit's:7\nclear:2\nways:3\ncreated:2\nbuckets:4\nnot:11\ngorgeous:2\neffective:1\nthey:4\nsingular.:1\nthrived:1\nplaces:1\nfew:1\nplayers:6\nhim:5\ncould:4\nmatch,:1\neven:3\nfewer:1\ntoday:1\nemulate.:1\nentered:1\nbelonged:2\nsize:1\nstrength.:1\nby:4\ntime:2\nwalked:1\naway,:1\nshowed:3\nonce:1\ngreat:1\njump:6\nshooters:1\nwin:3\nboth:2\ntitles:3\nchampionships.:1\nstudying:1\njordan's:9\nold:1\nshooting:5\nreveals:1\ncouple:1\nthings.:1\nfirst::1\nonly:4\ngreatest:2\nscorer:1\nera,:3\nhyperefficient:1\nshooter,:1\ntoo.:2\nword:1\n\"efficiency\":1\nmuch:3\ntalking:1\nabout:3\nhoops:1\n1990s,:1\npasses:1\nefficiency:3\ntest:1\nwith:5\nflying:1\ncolors.:1\nlook:3\nthis.:1\nlot:1\nred,:1\nfolks::1\nduring:1\nsecond:4\nthree-peat,:3\nthree:1\nconsecutive:1\ntitles.:1\ngo-to:1\nlegendary:1\nperiod:1\nno:6\nlonger:2\nincredible:3\ngravity-defying:1\ndunks:1\nmarked:1\nearly:1\nstages:2\ncareer,:3\nrather:1\nsome:1\nabsolutely:1\njumpers:6\n(defined:1\nhere:2\nas:11\nbetween:2\n8:1\nrim:1\nline).:1\nactive:1\nshooter:3\nworld,:1\narguably:1\nefficient:1\none,:1\nconsider:1\nthese:2\ntwo:3\nnuggets::1\nglenn:2\n\"big:1\ndog\":1\nrobinson:1\nranked:3\nscoring,:1\npouring:1\n391:1\nzone.:2\n547.:2\n59:1\nwho:3\nattempted:2\nleast:1\n300:1\nthird:2\noverall:1\nefficiency,:1\nhitting:1\n49.5%:1\nover:6\n1,100:1\ntries.:1\nmullin:2\nvinny:1\ndel:2\nnegro:1\naccurate.:1\nreggie:2\nmiller,:1\ncommonly:1\nregarded:1\nfinest:1\n42.4%:1\n484:2\nseason.:2\nyep,:1\nmiller:2\nfirst:1\ndespite:1\nrequiring:1\ntake:1\nnumerous:1\nimpossible:1\nagainst:1\nleague's:3\ndefenders:6\nnightly:1\nbasis.:1\ndue:1\nrespect:1\nnegro,:1\ncenterpiece:1\nopponent's:1\nplan.:1\nfocus:1\neyeballs:1\narena.:1\nthere:3\njordan,:3\nthen:4\neveryone:1\nelse::1\nstill,:2\nfully:1\nabsorb:1\nspecial:1\nlate-era:1\nnumbers:1\nwere,:1\nyou:10\nput:1\nthem:2\nface:1\nastounding:1\namounts:1\ndefensive:1\npressure.:1\nmust:2\nalso:7\nrecognize:1\npoint:1\njumper:3\nweakest:2\npart:3\n\"when:1\nlooked:1\ndraft,:2\n195:1\npounds:1\n6-6,:1\nso:4\nkind:1\nthin,\":1\nsaid:4\nrod:1\nthorn,:1\ngm:1\ndrafted:1\njordan.:1\n\"so:1\nbiggest:1\nthing:1\nwas,:2\nmake:1\nshot?\":1\nhappen:1\novernight,:1\neventually:2\nbecame:4\nfearless,:1\nclutch:1\nterrifying:1\nera.:2\nmapped:1\nfuture:1\nsport.:2\nlater,:1\nphil:1\njackson,:1\ncoach:1\nwitnessed:1\nleverage:1\nmaniacal:1\nwork:1\nethic:1\ntransform:1\nrim-attacking:1\nleaper:1\ninto:5\nhistory's:1\nimportant:1\nshooters,:1\nsaid::1\n\"the:1\nmichael's:1\noffensive:1\nend:2\nshooting,:4\nobviously:1\nmastered:1\neverybody:1\ncouldn't:1\ndo:4\ncame:3\ncollege.:1\nconsistently.\":1\nslowly:1\nbuild:1\nreliable:2\nengineered:1\nbrilliant:1\nsignature:3\nmove.:1\nchanges:1\nsuperstar:2\npast:2\nbeen:1\ndrastic.:1\nare:1\nfavorite:3\nlast:4\nseasons:1\nalongside:1\njames:1\nharden's:1\ncampaigns.:1\nharden:1\nmultiple:1\nguard:3\nposition,:1\nsimilarities:1\nthere.:1\ndance:2\nmargins:1\ninfiltrated:1\nteeth:1\nopposing:1\ndefenses:1\ndestroyed:1\npersonal.:1\nfaces.:1\nother:1\nwill:3\nchampionships,:1\nnobody:2\never:3\ndid.:2\nfact,:1\nhas:2\ncome:1\ntopping:1\nmark:1\nmakes:1\n(since:1\n1997-98):1\n1997-98:1\njordan::1\n671:1\n2005-06:2\ndirk:3\nnowitzki::2\n564:1\n2003-04:1\nkevin:1\ngarnett::1\n540:1\n2000-01:1\nrobinson::1\n506:1\nkobe:2\nbryant::1\n502:1\n2008-09:1\n501:1\nspring:2\nsteve:1\nsmith,:1\ngifted:1\nwing:1\ndescribed:1\ndefending:2\ndetail:1\nsports:1\nillustrated.:1\nchallenge:1\nmental:1\nphysical.:1\n\"somebody:1\nrun:2\nforth:1\nacross:1\nfloor:1\nthrough:2\nmillion:1\npicks:1\npossession,\":1\nsmith:2\nsaid.:2\n\"but:1\ndoesn't:2\nwaste:1\nmotion,:1\nplay:1\n...:1\ngets:2\nball,:2\nlets:1\nset,:1\ndoes:1\nwhat:1\nhe's:1\ngoing:1\ndo.\":1\n1990s:2\nhunting:1\nmismatches:1\ntrip:1\ndown:1\nfloor.:1\nmismatch.:1\ncruel:1\nintimacy:1\ndomination.:1\nexcuses.:1\naverse:1\nattacking:1\ncompromised:1\ndefender:2\nfreakishly:1\ncomfortable:1\nbeating:1\nbest:8\nscratch,:1\nagain.:1\nwould:3\ncatch:1\npause:1\nmoment,:1\ncrowd:2\nanticipate,:1\nhe'd:1\nbucket.:1\nmeant:1\nfacing:1\nendless:1\nunpredictable:1\narray:1\none-on-one:2\nmoves:1\nsimply:1\nhoping:1\nwouldn't:1\nfall.:1\n\"he:2\npattern,\":1\nleft,:1\nright.:1\ndrove,:1\npulled:1\nup.:1\nthat,:1\nyour:3\nhope:1\ncools:1\noff.\":1\nfun:1\nwatch:1\nbecause:1\nsequences:1\nentertainment.:1\nsoon:1\ncaught:1\npass,:1\nwhole:1\nknew:2\nplayer:2\nworld:2\npounce:1\nhow.:1\nif:2\nstunning:1\nfadeaway.:1\ninvent:1\nfadeaway:4\npost:2\nused:1\nmike,:1\nturned:2\nfadeaways:3\nartwork.:1\nbeauty:1\neffectiveness:1\nexact:1\nkinds:1\nho-hum,:1\nback-to-the-basket,:1\npost-up:2\nchances:1\ndefined:1\ngenerations:1\nbreathtaking,:1\nmust-watch:1\ntelevision.:1\nallowed:1\nsimple:1\noffense,:1\nhandy:1\nwithin:1\nbrutality:1\nhoops::1\nball:2\npost.:1\nbecome:2\nmaybe:1\nhistory.:1\n1996:1\n1998,:2\nsee:1\ntons:1\nactivity:1\nnear:1\nleft:2\nright:1\nblock:1\nareas::1\nwhere:2\nbreak:1\n\"windshield:1\nwiper,\":1\nnickname:1\nvariation:1\nfaked:1\nturnaround:1\nshoulder:1\nsprang:1\nother.:1\ngenerally,:1\noverplay:1\nside,:1\ndesigned:1\nexploit:1\nthat.:1\niconic:2\nmove:1\nfueled:1\ncountless:1\nlate:1\nplayground:1\ntrick:1\ngeneration:1\nyoung:1\nhoopers:1\ndoing:1\n\"be:2\nmike.\":1\nwindshield:1\nwiper:1\nhighlights:1\nthoughtfulness:1\nbehind:1\napproach.:1\nathleticism:1\nwane:1\n30s,:1\nkeep:1\noff:1\nbalance.:1\nsensed:1\nleaning:1\ntoo:1\nfar:1\nway,:1\nflip:1\nscript,:1\nglide:1\npocket:1\nlet:1\nold-man:1\nrest.:1\nfrowned:1\nupon:1\nmany:2\ncoaches.:1\nsupposed:1\nshoot:2\nmoving:1\naway:1\ntarget.:1\nacknowledged:1\ntraining:1\nvideos,:1\ncountered:1\nproper:1\npractice,:1\nweapon.:1\ntranscendent:1\nsuperstars,:1\nfundamentals,:1\npost-jordan:1\nlandscape,:1\ncornerstone:1\nshooters.:1\ncoincidence:1\nsuch:1\nbryant:1\nnowitzki:1\nrode:1\nfollowing:1\nretirement.:1\nbeautiful:1\napproach:1\nexhausting.:1\nmagnificence:1\nrunning:1\nfumes:1\n10th:1\n1997-98.:1\nfatigue:1\nmanifested:1\nreduced:1\nspots.:1\nstill:2\nversion:1\nhimself.:1\nmanaged:1\npull:1\nteam:1\npostseason:2\ngantlet:1\nlarge:1\nprowess.:1\npostseason,:1\n56%:1\n34-year-old:1\n136:1\n13:1\n3s,:1\ncourse:2\nfinal:1\nremember.:1\nsank:1\ndagger:1\nsink:1\njazz:1\n1998:1\nfinals,:1\nbob:1\ncostas:1\nperfectly::1\n\"if:1\nimage:1\nmagnificent:2\nit?\":1\naesthetically:1\nseen.:1\nstatistically:1\nincredible.:1\nbrand:1\nunto:1\nhimself:1\nthing.:1\nguards:1\ndominate:1\ncoming:1\n1984:1\n16:1\nprevious:1\nmvps:2\ncenters.:1\nmvp:1\naward.:1\ntransfigured:1\nfeel:1\ngreatness,:1\nreshaping:1\nelevating:1\nbeyond:1\nanyone's:1\nexpectations.:1\nquell:1\ngiants:1\nconquer:1\nsport:1\nlevel.:1\nmike\":1\nisn't:1\ntitles,:1\nsix:1\nrings,:1\nfive:1\nsell:1\nmillions:1\nshoes.:1\npermanently:1\nreform:1\nnature:1\nskill:1\nspeed.:1\ndoes.:1\n"
    }
   ],
   "source": [
    "freq_doc2 = nltk.FreqDist(doc2_words)\n",
    "\n",
    "for key, val in freq_doc2.items():\n",
    "    print(str(key) + ':' + str(val))"
   ]
  },
  {
   "cell_type": "code",
   "execution_count": 13,
   "metadata": {},
   "outputs": [
    {
     "output_type": "execute_result",
     "data": {
      "text/plain": "nltk.probability.FreqDist"
     },
     "metadata": {},
     "execution_count": 13
    }
   ],
   "source": [
    "type(freq_doc1)"
   ]
  },
  {
   "cell_type": "markdown",
   "metadata": {},
   "source": [
    "## Sort word counts"
   ]
  },
  {
   "cell_type": "code",
   "execution_count": 14,
   "metadata": {},
   "outputs": [
    {
     "output_type": "stream",
     "name": "stderr",
     "text": "[nltk_data] Downloading package stopwords to\n[nltk_data]     C:\\Users\\bxiao\\AppData\\Roaming\\nltk_data...\n[nltk_data]   Package stopwords is already up-to-date!\n"
    }
   ],
   "source": [
    "# Remove stopwords\n",
    "\n",
    "from nltk.corpus import stopwords\n",
    "nltk.download('stopwords')\n",
    "\n",
    "sr = stopwords.words('english')"
   ]
  },
  {
   "cell_type": "code",
   "execution_count": 15,
   "metadata": {},
   "outputs": [
    {
     "output_type": "stream",
     "name": "stderr",
     "text": "[nltk_data] Downloading package stopwords to\n[nltk_data]     C:\\Users\\bxiao\\AppData\\Roaming\\nltk_data...\n[nltk_data]   Package stopwords is already up-to-date!\n"
    }
   ],
   "source": [
    "from nltk.corpus import stopwords\n",
    "nltk.download('stopwords')\n",
    "\n",
    "sr = stopwords.words('english')"
   ]
  },
  {
   "cell_type": "code",
   "execution_count": 16,
   "metadata": {},
   "outputs": [],
   "source": [
    "cleaned_freq1 = freq_doc1.copy()\n",
    "cleaned_freq2 = freq_doc2.copy()\n",
    "\n",
    "for word in freq_doc1.keys():\n",
    "    if word in sr:\n",
    "        del cleaned_freq1[word]\n",
    "\n",
    "for word in freq_doc2.keys():\n",
    "    if word in sr:\n",
    "        del cleaned_freq2[word]\n",
    "\n",
    "#for word in doc1_lines:\n",
    " #   if word in sr:\n",
    "  #      cleaned_word_list.remove(word)"
   ]
  },
  {
   "cell_type": "code",
   "execution_count": 17,
   "metadata": {},
   "outputs": [],
   "source": [
    "from collections import OrderedDict\n",
    "\n",
    "# https://stackoverflow.com/questions/16772071/sort-dict-by-value-python\n",
    "\n",
    "# Doc 1\n",
    "sorted_freq1 = dict(sorted(cleaned_freq1.items(), key = lambda x:x[1], reverse=True))\n",
    "\n",
    "# Doc 2\n",
    "sorted_freq2 = dict(sorted(cleaned_freq2.items(), key = lambda x:x[1], reverse=True))"
   ]
  },
  {
   "cell_type": "code",
   "execution_count": 18,
   "metadata": {},
   "outputs": [
    {
     "output_type": "execute_result",
     "data": {
      "text/plain": "{'bryant': 49,\n 'kobe': 44,\n 'jackson': 25,\n 'says.': 20,\n '--': 17,\n 'michael': 13,\n 'jordan': 13,\n 'would': 11,\n 'lakers': 11,\n '\"i': 10,\n 'years': 10,\n 'him.': 9,\n 'one': 8,\n \"jackson's\": 8,\n '\"he': 8,\n 'magic': 8,\n 'tells': 8,\n 'time': 7,\n 'made': 7,\n 'like': 7}"
     },
     "metadata": {},
     "execution_count": 18
    }
   ],
   "source": [
    "dict(list(sorted_freq1.items())[0:20])"
   ]
  },
  {
   "cell_type": "code",
   "execution_count": 19,
   "metadata": {},
   "outputs": [
    {
     "output_type": "execute_result",
     "data": {
      "text/plain": "{'jordan': 37,\n 'scoring': 13,\n 'midrange': 13,\n 'one': 11,\n 'shot': 11,\n 'nba': 11,\n \"jordan's\": 9,\n 'made': 8,\n 'shots': 8,\n 'like': 8,\n 'best': 8,\n '--': 7,\n 'also': 7,\n 'bulls': 6,\n 'mj': 6,\n 'players': 6,\n 'jump': 6,\n 'jumpers': 6,\n 'defenders': 6,\n 'game': 5}"
     },
     "metadata": {},
     "execution_count": 19
    }
   ],
   "source": [
    "dict(list(sorted_freq2.items())[0:20])"
   ]
  },
  {
   "cell_type": "code",
   "execution_count": 43,
   "metadata": {},
   "outputs": [
    {
     "output_type": "execute_result",
     "data": {
      "text/plain": "2"
     },
     "metadata": {},
     "execution_count": 43
    }
   ],
   "source": [
    "sorted_freq1['jerry']"
   ]
  },
  {
   "cell_type": "code",
   "execution_count": 60,
   "metadata": {},
   "outputs": [
    {
     "output_type": "execute_result",
     "data": {
      "text/plain": "1"
     },
     "metadata": {},
     "execution_count": 60
    }
   ],
   "source": [
    "sorted_freq2[\"bryant\"]"
   ]
  },
  {
   "cell_type": "markdown",
   "metadata": {},
   "source": [
    "# Tokenizing text"
   ]
  },
  {
   "cell_type": "code",
   "execution_count": 20,
   "metadata": {},
   "outputs": [],
   "source": [
    "from nltk.tokenize import sent_tokenize\n",
    "from nltk.tokenize import word_tokenize"
   ]
  },
  {
   "cell_type": "code",
   "execution_count": 21,
   "metadata": {},
   "outputs": [
    {
     "output_type": "execute_result",
     "data": {
      "text/plain": "\"It was easier that way. He approached the game with such ferocity that it alarmed his friends, his teammates, even his family. It prompted others to shrink away, as if his obsession were a disease that might be contagious. He contracted it as a boy in Philadelphia, where he exhausted himself to keep up with older sisters Sharia and Shaya; it spread in Italy, where his father played professionally and an 8-year-old Kobe immersed himself in the game. By the time Bryant was a senior at Lower Merion High School outside Philadelphia, it had consumed him. He wasn't content with just beating his opponent. He needed to break him.\""
     },
     "metadata": {},
     "execution_count": 21
    }
   ],
   "source": [
    "doc1_lines[1]"
   ]
  },
  {
   "cell_type": "code",
   "execution_count": 22,
   "metadata": {},
   "outputs": [
    {
     "output_type": "stream",
     "name": "stderr",
     "text": "[nltk_data] Downloading package punkt to\n[nltk_data]     C:\\Users\\bxiao\\AppData\\Roaming\\nltk_data...\n[nltk_data]   Package punkt is already up-to-date!\n"
    },
    {
     "output_type": "execute_result",
     "data": {
      "text/plain": "True"
     },
     "metadata": {},
     "execution_count": 22
    }
   ],
   "source": [
    "nltk.download('punkt')"
   ]
  },
  {
   "cell_type": "code",
   "execution_count": 23,
   "metadata": {},
   "outputs": [
    {
     "output_type": "stream",
     "name": "stdout",
     "text": "['BY THE TIME he was 14, Kobe Bryant had made up his mind: His quest for basketball greatness would be a solitary journey.']\n"
    }
   ],
   "source": [
    "print(sent_tokenize(doc1_lines[0]))"
   ]
  },
  {
   "cell_type": "code",
   "execution_count": 24,
   "metadata": {},
   "outputs": [
    {
     "output_type": "stream",
     "name": "stdout",
     "text": "['BY', 'THE', 'TIME', 'he', 'was', '14', ',', 'Kobe', 'Bryant', 'had', 'made', 'up', 'his', 'mind', ':', 'His', 'quest', 'for', 'basketball', 'greatness', 'would', 'be', 'a', 'solitary', 'journey', '.']\n"
    }
   ],
   "source": [
    "print(word_tokenize(doc1_lines[0]))"
   ]
  },
  {
   "cell_type": "code",
   "execution_count": 25,
   "metadata": {},
   "outputs": [
    {
     "output_type": "stream",
     "name": "stdout",
     "text": "['``', 'Keep', 'doing', 'what', 'you', \"'re\", 'doing', ',', \"''\", 'Jackson', 'implores', 'him', '.', '``', 'Do', \"n't\", 'come', 'back', 'to', 'the', 'pack', 'and', 'be', 'normal', 'for', 'the', 'sake', 'of', 'blending', 'in', 'with', 'others', '.', 'Do', \"n't\", 'dumb', 'it', 'down', '.', \"''\"]\n"
    }
   ],
   "source": [
    "print(word_tokenize(doc1_lines[10]))"
   ]
  },
  {
   "cell_type": "markdown",
   "metadata": {},
   "source": [
    "# NLTK Word Stemming"
   ]
  },
  {
   "cell_type": "code",
   "execution_count": 26,
   "metadata": {},
   "outputs": [
    {
     "output_type": "stream",
     "name": "stdout",
     "text": "work\n"
    }
   ],
   "source": [
    "from nltk.stem import PorterStemmer\n",
    "\n",
    "stemmer =  PorterStemmer()\n",
    "print(stemmer.stem('working'))"
   ]
  },
  {
   "cell_type": "code",
   "execution_count": 27,
   "metadata": {},
   "outputs": [],
   "source": [
    "test_dict = sorted_freq1.copy()"
   ]
  },
  {
   "cell_type": "code",
   "execution_count": 44,
   "metadata": {},
   "outputs": [
    {
     "output_type": "stream",
     "name": "stdout",
     "text": "shot\n"
    }
   ],
   "source": [
    "print(stemmer.stem('shots'))"
   ]
  },
  {
   "cell_type": "code",
   "execution_count": 28,
   "metadata": {},
   "outputs": [],
   "source": [
    "keys_to_remove = list()\n",
    "\n",
    "for word in test_dict.keys():\n",
    "    stem = stemmer.stem(word)\n",
    "    if stem == word:\n",
    "        continue\n",
    "    elif stem in test_dict.keys():\n",
    "        test_dict[stem] += test_dict[word]\n",
    "        keys_to_remove.append(word)\n",
    "    else:\n",
    "        continue"
   ]
  },
  {
   "cell_type": "code",
   "execution_count": 29,
   "metadata": {},
   "outputs": [],
   "source": [
    "for key in keys_to_remove:\n",
    "    del test_dict[key]"
   ]
  },
  {
   "cell_type": "code",
   "execution_count": 30,
   "metadata": {},
   "outputs": [
    {
     "output_type": "stream",
     "name": "stdout",
     "text": "jackson'\n"
    }
   ],
   "source": [
    "print(stemmer.stem(\"jackson's\"))"
   ]
  },
  {
   "cell_type": "code",
   "execution_count": 31,
   "metadata": {},
   "outputs": [
    {
     "output_type": "execute_result",
     "data": {
      "text/plain": "{'bryant': 49,\n 'kobe': 44,\n 'jackson': 25,\n 'says.': 20,\n '--': 17,\n 'michael': 13,\n 'jordan': 13,\n 'would': 11,\n 'lakers': 11,\n '\"i': 10,\n 'him.': 9,\n 'one': 8,\n \"jackson's\": 8,\n '\"he': 8,\n 'magic': 8,\n 'tells': 8,\n 'time': 7,\n 'made': 7,\n 'like': 8,\n 'never': 7,\n 'two': 6,\n \"bryant's\": 6,\n 'says,': 6,\n 'nba': 6,\n 'later,': 6}"
     },
     "metadata": {},
     "execution_count": 31
    }
   ],
   "source": [
    "dict(list(test_dict.items())[0:25])"
   ]
  },
  {
   "cell_type": "code",
   "execution_count": 32,
   "metadata": {},
   "outputs": [
    {
     "output_type": "execute_result",
     "data": {
      "text/plain": "{'bryant': 49,\n 'kobe': 44,\n 'jackson': 25,\n 'says.': 20,\n '--': 17,\n 'michael': 13,\n 'jordan': 13,\n 'would': 11,\n 'lakers': 11,\n '\"i': 10,\n 'years': 10,\n 'him.': 9,\n 'one': 8,\n \"jackson's\": 8,\n '\"he': 8,\n 'magic': 8,\n 'tells': 8,\n 'time': 7,\n 'made': 7,\n 'like': 7,\n 'never': 7,\n 'two': 6,\n \"bryant's\": 6,\n 'says,': 6,\n 'nba': 6}"
     },
     "metadata": {},
     "execution_count": 32
    }
   ],
   "source": [
    "dict(list(sorted_freq1.items())[0:25])"
   ]
  },
  {
   "cell_type": "code",
   "execution_count": 33,
   "metadata": {},
   "outputs": [],
   "source": [
    "# Stem words and redo count"
   ]
  },
  {
   "cell_type": "code",
   "execution_count": 34,
   "metadata": {},
   "outputs": [
    {
     "output_type": "stream",
     "name": "stdout",
     "text": "False\n"
    }
   ],
   "source": [
    "print('one' in sr)"
   ]
  }
 ]
}