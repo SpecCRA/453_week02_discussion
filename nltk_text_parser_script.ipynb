{
 "nbformat": 4,
 "nbformat_minor": 2,
 "metadata": {
  "language_info": {
   "name": "python",
   "codemirror_mode": {
    "name": "ipython",
    "version": 3
   },
   "version": "3.7.4-final"
  },
  "orig_nbformat": 2,
  "file_extension": ".py",
  "mimetype": "text/x-python",
  "name": "python",
  "npconvert_exporter": "python",
  "pygments_lexer": "ipython3",
  "version": 3,
  "kernelspec": {
   "name": "python37464bitbaseconda1e0c91686aae43d9a876dfdafaecff22",
   "display_name": "Python 3.7.4 64-bit ('base': conda)"
  }
 },
 "cells": [
  {
   "cell_type": "markdown",
   "metadata": {},
   "source": [
    "# Setup"
   ]
  },
  {
   "cell_type": "code",
   "execution_count": 1,
   "metadata": {},
   "outputs": [],
   "source": [
    "import nltk"
   ]
  },
  {
   "cell_type": "markdown",
   "metadata": {},
   "source": [
    "# Import file "
   ]
  },
  {
   "cell_type": "code",
   "execution_count": 89,
   "metadata": {},
   "outputs": [],
   "source": [
    "file_path = '4_5_20_jackie_mac_kobe.txt'\n",
    "\n",
    "with open(file_path) as f:\n",
    "    lines = f.read().splitlines()\n",
    "\n",
    "with open(file_path) as f:\n",
    "    words = f.read().lower().split()"
   ]
  },
  {
   "cell_type": "code",
   "execution_count": 75,
   "metadata": {},
   "outputs": [
    {
     "output_type": "execute_result",
     "data": {
      "text/plain": "list"
     },
     "metadata": {},
     "execution_count": 75
    }
   ],
   "source": [
    "type(lines)"
   ]
  },
  {
   "cell_type": "code",
   "execution_count": 76,
   "metadata": {},
   "outputs": [
    {
     "output_type": "execute_result",
     "data": {
      "text/plain": "['by the time he was 14, kobe bryant had made up his mind: his quest for basketball greatness would be a solitary journey.',\n '',\n \"it was easier that way. he approached the game with such ferocity that it alarmed his friends, his teammates, even his family. it prompted others to shrink away, as if his obsession were a disease that might be contagious. he contracted it as a boy in philadelphia, where he exhausted himself to keep up with older sisters sharia and shaya; it spread in italy, where his father played professionally and an 8-year-old kobe immersed himself in the game. by the time bryant was a senior at lower merion high school outside philadelphia, it had consumed him. he wasn't content with just beating his opponent. he needed to break him.\",\n '',\n \"he inflicted one humiliation after the next, dunking when a layup would do, scoring with such force against overmatched peers that he reduced them to tears. subjected to admonishments and withering stares, kobe concluded: i'm alone in this.\",\n '',\n 'in 1996, his rookie year with the lakers, his teammates scoffed at the aloof teenager who treated every possession like armageddon. when they said he was too serious about basketball, kobe wondered how that was even possible. when they dubbed him showboat, he sought out his general manager, jerry west, who urged kobe to resist style over substance. showboat, west told him, was a moniker for guys who didn\\'t play the right way: \"stop trying to do too much.\" west says what he did not do was condemn kobe for being detached from his teammates. he couldn\\'t. \"talk about an isolated teammate,\" west recalls, \"i was much the same way.\"',\n '',\n \"flash forward to the summer following his rookie season, and bryant is lifting weights at gold's gym in venice, california, desperate to chisel his adolescent frame into a man-sized body. he's balancing a barbell on his shoulders when his nextel cellphone rings midsquat. he almost lets it go to voicemail, but curiosity wins out.\",\n '',\n '\"hi, it\\'s michael,\" the voice on the line says.',\n '',\n '\"michael who?\"',\n '',\n '\"michael jackson.\"',\n '',\n 'bryant is incredulous. kobe has never spoken to michael jackson before. it doesn\\'t sound like the king of pop; the voice is lower, subdued, devoid of the childlike whisper jackson uses onstage. \"he\\'s calling me out of the f------ blue,\" bryant remembers now. \"i don\\'t think it\\'s a real phone call.\"',\n '',\n 'it is. it turns out jackson has been studying the young bryant from afar, and he has called to offer advice, one idiosyncratic phenom to another.',\n '',\n '\"keep doing what you\\'re doing,\" jackson implores him. \"don\\'t come back to the pack and be normal for the sake of blending in with others. don\\'t dumb it down.\"',\n '',\n \"the conversation lasts no more than 15 minutes, but the two men click. jackson clearly knows the nba, rattling off a string of lakers factoids. kobe, a fan of michael's music, has questions of his own. they come tumbling out: who were your early influences? how did you make thriller? what prompted you to buy the catalog of the beatles' music? when jackson invites bryant to join him at neverland ranch so the two can trade notes on how they approach their crafts, the 18-year-old bryant jumps at the chance.\",\n '',\n \"the neverland ranch, outside los olivos, california, is a two-and-a-half-hour drive from bryant's home in pacific palisades through rolling hills and canyons. bryant misjudges the distance, arriving nearly out of gas. not to worry, jackson says, you can fill up at my private gas station. a 2,700-acre cornucopia of childlike delights, neverland also boasts an amusement park with a ferris wheel, a roller coaster, a petting zoo housing a llama, orangutans, an elephant and giraffes, and a steam engine named after michael jackson's mother, katherine.\"]"
     },
     "metadata": {},
     "execution_count": 76
    }
   ],
   "source": [
    "lines[:25]"
   ]
  },
  {
   "cell_type": "code",
   "execution_count": 77,
   "metadata": {},
   "outputs": [
    {
     "output_type": "execute_result",
     "data": {
      "text/plain": "['by',\n 'the',\n 'time',\n 'he',\n 'was',\n '14,',\n 'kobe',\n 'bryant',\n 'had',\n 'made',\n 'up',\n 'his',\n 'mind:',\n 'his',\n 'quest',\n 'for',\n 'basketball',\n 'greatness',\n 'would',\n 'be',\n 'a',\n 'solitary',\n 'journey.',\n 'it',\n 'was']"
     },
     "metadata": {},
     "execution_count": 77
    }
   ],
   "source": [
    "words[:25]"
   ]
  },
  {
   "cell_type": "markdown",
   "metadata": {},
   "source": [
    "# Using NLTK to remove words"
   ]
  },
  {
   "cell_type": "code",
   "execution_count": 78,
   "metadata": {
    "tags": [
     "outputPrepend"
    ]
   },
   "outputs": [
    {
     "output_type": "stream",
     "name": "stdout",
     "text": "by:15\nthe:154\ntime:7\nhe:60\nwas:34\n14,:1\nkobe:44\nbryant:49\nhad:17\nmade:7\nup:4\nhis:58\nmind::1\nquest:1\nfor:28\nbasketball:3\ngreatness:1\nwould:11\nbe:14\na:78\nsolitary:1\njourney.:1\nit:31\neasier:1\nthat:29\nway.:1\napproached:1\ngame:3\nwith:34\nsuch:4\nferocity:1\nalarmed:1\nfriends,:1\nteammates,:2\neven:4\nfamily.:1\nprompted:2\nothers:2\nto:103\nshrink:1\naway,:1\nas:20\nif:7\nobsession:1\nwere:8\ndisease:1\nmight:4\ncontagious.:1\ncontracted:1\nboy:2\nin:57\nphiladelphia,:2\nwhere:4\nexhausted:1\nhimself:5\nkeep:3\nolder:1\nsisters:1\nsharia:1\nand:70\nshaya;:1\nspread:1\nitaly,:2\nfather:1\nplayed:2\nprofessionally:1\nan:18\n8-year-old:2\nimmersed:1\ngame.:1\nsenior:2\nat:19\nlower:1\nmerion:1\nhigh:2\nschool:2\noutside:2\nconsumed:1\nhim.:9\nwasn't:3\ncontent:1\njust:8\nbeating:1\nopponent.:1\nneeded:1\nbreak:2\ninflicted:1\none:8\nhumiliation:1\nafter:10\nnext,:1\ndunking:1\nwhen:15\nlayup:1\ndo,:1\nscoring:1\nforce:1\nagainst:3\novermatched:1\npeers:1\nreduced:1\nthem:8\ntears.:1\nsubjected:1\nadmonishments:1\nwithering:1\nstares,:1\nconcluded::1\ni'm:4\nalone:1\nthis.:1\n1996,:1\nrookie:2\nyear:1\nlakers,:1\nteammates:5\nscoffed:1\naloof:1\nteenager:1\nwho:15\ntreated:1\nevery:4\npossession:1\nlike:7\narmageddon.:1\nthey:14\nsaid:1\ntoo:7\nserious:1\nabout:12\nbasketball,:1\nwondered:1\nhow:17\npossible.:1\ndubbed:2\nhim:12\nshowboat,:2\nsought:1\nout:8\ngeneral:1\nmanager,:1\njerry:2\nwest,:1\nurged:1\nresist:1\nstyle:1\nover:7\nsubstance.:1\nwest:5\ntold:5\nhim,:2\nmoniker:1\nguys:3\ndidn't:3\nplay:2\nright:4\nway::1\n\"stop:1\ntrying:1\ndo:8\nmuch.\":1\nsays:3\nwhat:11\ndid:4\nnot:8\ncondemn:1\nbeing:4\ndetached:1\nfrom:12\nteammates.:1\ncouldn't.:1\n\"talk:1\nisolated:2\nteammate,\":1\nrecalls,:1\n\"i:10\nmuch:2\nsame:5\nway.\":1\nflash:1\nforward:1\nsummer:2\nfollowing:3\nseason,:3\nis:34\nlifting:1\nweights:1\ngold's:3\ngym:2\nvenice,:1\ncalifornia,:2\ndesperate:1\nchisel:1\nadolescent:1\nframe:1\ninto:6\nman-sized:1\nbody.:1\nhe's:3\nbalancing:1\nbarbell:1\non:18\nshoulders:1\nnextel:1\ncellphone:3\nrings:1\nmidsquat.:1\nalmost:1\nlets:1\ngo:3\nvoicemail,:1\nbut:13\ncuriosity:2\nwins:1\nout.:1\n\"hi,:1\nit's:11\nmichael,\":1\nvoice:2\nline:2\nsays.:20\n\"michael:3\nwho?\":1\njackson.\":1\nincredulous.:1\nhas:13\nnever:7\nspoken:2\nmichael:13\njackson:25\nbefore.:1\ndoesn't:2\nsound:2\nking:1\nof:66\npop;:1\nlower,:1\nsubdued,:1\ndevoid:1\nchildlike:2\nwhisper:1\nuses:1\nonstage.:1\n\"he's:1\ncalling:1\nme:3\nf------:1\nblue,\":1\nremembers:1\nnow.:1\ndon't:3\nthink:3\nreal:1\nphone:5\ncall.\":2\nis.:3\nturns:1\nbeen:5\nstudying:1\nyoung:3\nafar,:1\ncalled:2\noffer:1\nadvice,:1\nidiosyncratic:1\nphenom:1\nanother.:1\n\"keep:1\ndoing:1\nyou're:1\ndoing,\":1\nimplores:1\n\"don't:1\ncome:3\nback:4\npack:1\nnormal:1\nsake:1\nblending:1\nothers.:1\ndumb:1\ndown.\":1\nconversation:3\nlasts:1\nno:4\nmore:5\nthan:5\n15:1\nminutes,:2\ntwo:6\nmen:3\nclick.:1\nclearly:2\nknows:1\nnba,:1\nrattling:1\noff:6\nstring:1\nlakers:11\nfactoids.:1\nkobe,:2\nfan:1\nmichael's:2\nmusic,:2\nquestions:2\nown.:2\ntumbling:1\nout::1\nyour:11\nearly:3\ninfluences?:1\nyou:20\nmake:2\nthriller?:1\nbuy:1\ncatalog:1\nbeatles':1\nmusic?:1\ninvites:1\njoin:1\nneverland:5\nranch:4\nso:9\ncan:2\ntrade:1\nnotes:1\napproach:1\ntheir:7\ncrafts,:1\n18-year-old:1\njumps:1\nchance.:1\nranch,:1\nlos:1\nolivos,:1\ntwo-and-a-half-hour:1\ndrive:2\nbryant's:6\nhome:2\npacific:2\npalisades:2\nthrough:6\nrolling:1\nhills:1\ncanyons.:1\nmisjudges:1\ndistance,:1\narriving:1\nnearly:2\ngas.:1\nworry,:1\nsays,:6\nfill:1\nmy:8\nprivate:4\ngas:2\nstation.:1\n2,700-acre:1\ncornucopia:1\ndelights,:1\nalso:1\nboasts:1\namusement:1\npark:1\nferris:1\nwheel,:1\nroller:1\ncoaster,:1\npetting:1\nzoo:1\nhousing:1\nllama,:1\norangutans,:1\nelephant:1\ngiraffes,:1\nsteam:1\nengine:1\nnamed:1\njackson's:8\nmother,:2\nkatherine.:1\ninside:1\nfrench:1\nnormandy:1\nresidence,:1\nshare:2\nmeal:1\nmarinated:1\nchicken:1\norganic:1\nvegetables.\"he:1\nme,:4\n'this:1\nlove.:1\nthis:4\nobsession,'\":1\nrecalls.:1\n\"he:8\nsaid,:3\n'i:2\nknow:4\ndifferent.:1\nembrace:1\nit.'\":1\ndinner,:1\npresents:1\ngift,:2\ncopy:1\njonathan:2\nlivingston:2\nseagull,:1\nnovella:1\noutcast:1\nbird:4\nwho's:2\nunwilling:1\nconform.:1\nthen:7\nhalf:1\nmile:1\n5,500-square-foot:1\ntheater,:1\nadorned:1\nbillboards:1\nold:3\nfilms,:1\nflowing:1\nfountain:1\nconcession:1\nstand:1\nstocked:1\nboxed:1\ntreats:1\ncotton:1\ncandy.:1\ntheater:1\nstate-of-the-art:1\nsystem,:1\nplush:1\nvelvet:1\nseats:1\ntrapdoors:1\nmagic:8\nshows.:1\nheard:2\ngrace:1\nkelly,:1\nfred:1\nastaire:1\nor:3\nginger:1\nrogers,:1\nduring:3\nfilm:1\nshowing:1\nwork,:1\nexplains:1\ninspiration:1\n1988:1\n\"smooth:1\ncriminal\":1\nmusic:1\nvideo:1\ndescribes:1\nlineage:1\nbreaking:1\ndown:2\nsongs:1\nnote:1\nnote,:1\ntaking:1\nprocess:1\nrecording:1\n\"billie:1\njean.\":1\ntells:8\ntransfixed:1\nsuccess:2\nbeatles,:1\ninitiated:1\nfriendships:1\npaul:1\nmccartney:1\nyoko:1\nono:1\nlearn:3\nmore.:1\ngreatest:1\nuse:3\nexpand:1\nscope.:1\nordinary:1\npeople:2\nwon't:2\nunderstand:1\ninsatiable:1\nthirst:1\nexcellence.:1\nbother:1\nstriving:1\nbecause:5\nonerous,:1\ndifficult.:1\neditor's:1\npicks:1\nhall:2\nfame:2\nclass:1\n2020::1\ncomplete:1\ncoverage:1\nwhich:3\nactive:1\nplayers:5\nare:6\nheaded:1\nhall?:1\nour:1\nchoice:1\nnba:6\nteam:2\n\"you've:2\ngot:5\nstudy:1\nall:9\ngreats,\":1\nkobe.:2\nsuccessful:1\nunsuccessful.\":1\ndrives:1\nsanta:1\nbarbara:1\ncounty:1\n--:17\nfull:1\ntank:1\ncar:1\nfront:1\nseat:1\ncluttered:1\ncopies:1\nclassic:1\nmovies:1\ngiven:1\nhim::1\namerican:1\nparis,:1\nsinging:1\nrain,:1\nfarewell:1\nconcubine.:1\nkobe's:3\nhomework,:1\nalong:1\nadditional:1\nreading:1\nassignment::1\nnapoleon:1\nhill's:1\npositive:1\nmental:1\nattitude.:1\narrives:2\nwell:1\nmidnight:1\nstays:1\nnight:2\ndevouring:1\nofferings.:1\nprovided:1\nform:3\nmovies,:1\npop:2\npsychology:1\ndated:1\nself-help:1\nbooks:2\ninvitation:2\nshape:1\ngreatest,:1\nmost:2\ncontroversial,:1\ncareers:1\nhistory.:1\ngenius,:1\nthief.:1\nfirst:5\nperson:1\nsay:2\nmuch.:1\npilfered:1\noscar:2\nrobertson's:1\npump:1\nfake,:1\nswiped:1\nwest's:1\nquick:1\nrelease,:1\ncopied:1\nelgin:1\nbaylor's:1\nfootwork.:1\nbig:3\nheist:1\ncouldn't:3\nquite:1\npull:1\nyears:10\njordan's:1\npatented:1\nfadeaway.:1\ndec.:1\n17,:1\n1997,:1\nsecond:3\nhave:10\nlost:2\n104-83:1\nlone:1\ntrip:2\nchicago,:1\nbounding:1\nbench:1\nscore:3\n33:1\npoints:1\n29:1\nmatching:1\noutput:1\nentire:1\nstarting:1\nlineup.:1\ngame,:2\njordan,:2\nfew:2\nmonths:2\nshy:1\n35,:1\napproaches:2\nbryant::2\n\"if:2\never:2\nneed:3\nanything,:2\ngive:1\nadvice:1\nstill:3\nfresh:1\nmind,:1\n19-year:1\npounces,:1\npeppering:1\njordan:13\nthere:4\nfallaway.:1\ndetermine:1\nrelease:1\npoint?:1\nmisdirection:1\ncritical:2\ncreating:1\nspace?:1\nrecognized:2\nsome:2\nme,\":2\nunderstood:1\nwe:4\nscary:1\ntype.\":1\nfact:1\nmet:1\nbefore,:1\nattended:1\nbulls-sixers:1\nspectrum:1\nmarch:1\n1996.:1\njulius:1\nerving:1\n(who:1\nfather,:1\njoe:1\n\"jelly:1\nbean\":1\nbryant,:4\nsixers):1\nchatted:1\ncorridor,:1\njoined:1\nconversation.:2\nboth:6\nturning:1\npro:1\njune,:2\nleft,:1\ndr.:1\nj:1\nexchanged:1\nknowing:1\nglances.:1\nkid:1\nintensity:2\nwell.:1\npart,:1\nleft:1\nconvinced:1\ndiscovered:1\nkindred:1\nspirits.:1\nlittle:2\npsychopath,\":1\nobsessed:1\nwere.\":1\nstart:1\n1998-99:1\nseason:1\ndelayed:1\nlabor:1\ndispute,:1\nallows:1\nreach:3\nagain,:1\nseries:1\npointed:1\ncontaining:1\nbigger:2\npost:1\nlikes:1\nlatrell:1\nsprewell,:1\nmitch:1\nrichmond,:1\njimmy:1\nbryon:1\nrussell,:1\nstronger:1\nphysical:1\ntutors:1\nkobe::1\nhold:1\noff,:1\npush:1\nweak:1\nside,:1\nfool:1\nthinking:1\nclear:1\nlane,:1\nplayer:1\ncan't:4\nfeel:1\ndefense:1\n\"they:1\nfundamental:1\nthings,\":1\n\"obviously:1\nthings:1\nlearned:1\ncarolina:1\nunder:1\ngreat:4\ntutelage:1\ndean:1\nsmith.:1\ni:9\nthat.:1\nspeaking:1\nmj:1\ngetting:3\nown:3\ncollege:1\neducation:1\nhighest:1\nlevel.\":1\ndecades,:1\ncontinue:1\ntopics:1\nranging:1\nweight:1\nexpectation:1\nprotection:1\nprivacy:1\nfamously:2\nmonomaniacal:1\nchampion:1\nadvising:1\nvery:1\nman:4\nwanted:1\nbetter:3\ntunnel:1\nvision:1\nonly:3\nwinning,:1\nother:4\npeople's:1\nperception:1\nyou,\":1\n\"you:1\nwhat?:2\ncare:1\nless.\":1\nlater,:6\n2000,:1\nwon:2\ntitle:1\nanticipates:1\nextended:1\nrun:1\nteammate:2\noccasional:1\nfoil:1\nshaquille:1\no'neal,:1\nfeasts:1\nbill:4\nrussell's:1\nbook:3\nwind,:1\nmarking:1\npages:1\ntouch:2\nupon:1\nrace,:1\nteamwork:1\ncoaching:1\nphilosophies.:1\nmentions:1\njackson,:2\nwhom:1\nspeaks:1\nleast:1\nonce:4\nmonth,:1\nicon:1\nurges:2\ncenter,:1\nwinner:1\n11:1\nchampionships:2\n13:1\nseasons:1\nceltics.:1\n\"people:1\n'bill:1\nrussell:5\nscore,'\":1\naugust.:1\n\"well,:1\ncould:6\nplenty,:1\nit,:1\nlet:3\nit.:3\nsometimes:1\nstep:2\nallow:1\nforward.\":1\ndrops:1\ngem:1\nwilt:6\nchamberlain,:1\nrival:1\nlongtime:1\nfriend.:1\ntimes,:1\nhe'd:4\nscore.:1\n\"bill:1\nwant:2\nactivate:1\nwilt,\":1\nfelt:2\ndefended:1\nwell,:1\ntake:2\nchallenge.:1\ndid,:1\ngoing:4\ndemolish:1\nphysically:1\nstrong.:1\nappease:1\nwilt,:1\nwhile,:1\nremain:1\nsatisfied:1\nbay.\":1\ntucks:1\nmemory:1\nbank.:1\n\"i'm:1\nthinking,:1\n'that's:1\nart:1\nwar:1\ns---.:1\ntry:1\nthat.'\":1\nrefuses:1\nname:1\nused:2\nstrategy:1\nagainst.:1\nformer:1\ncoaches:1\ncompunction,:1\nnaming:1\ntracy:1\nmcgrady:1\nand,:1\nlebron:1\njames:1\nrope-a-doped.:1\nasked:2\nconfirm:2\nnames,:1\nlaughs.:1\nwill:3\nneither:1\ndeny,\":1\n2000:1\n2002,:1\nwin:1\nthree:3\nstraight:1\ntitles,:1\ntop:1\nworld:1\n23:1\nold.:1\n2001,:1\nreleases:1\n10th:1\nstudio:1\nalbum,:1\ninvincible,:1\nsells:1\n10:2\nmillion:1\ncopies.:1\nwas,:2\nunbeknownst:1\nthem,:2\nbeginning:1\nmutual:1\nend.:1\nadvance:1\nwestern:1\nconference:1\nsemis:1\n2003:1\nlose:1\nspurs:1\nsix:2\ngames.:1\nroughly:1\nmonth:1\nclandestinely:1\neagle,:1\ncolorado,:1\narthroscopic:1\nsurgery:1\nknee:1\nsteadman:1\nclinic:1\nlater:4\narrested:1\nsexually:1\nassaulting:1\n19-year-old:1\nhotel:1\nworker,:1\nclaims:1\nsuperstar:1\nraped:1\nher:2\nwhile:1\nthere.:2\nfive:1\nformally:2\ncharged:2\nseven:1\ncounts:1\nsexual:2\nabuse,:1\nresult:1\nallegations:2\nspent:1\njackson.:1\nis,:1\nfact,:2\naccused:1\nillicit:1\nacts:1\nunderage:1\nboys;:1\nfirst,:1\nprior,:1\nwent:2\ntrial.:1\nseem:1\nplausible:1\nthese:1\nparallel:1\nevents:1\ndraw:1\ncloser,:1\ndisgraced:1\nicons:1\nunited:1\nscandal.:1\nopposite:1\noccurs.:1\nbrace:1\nthemselves:1\nlegal:1\ntroubles:1\npr:1\nnightmares:1\nfollow.:1\ncharges:3\nhorrific.:1\nisn't:2\nmatter:2\nsullied:1\nreputations;:1\nconvicted,:1\nface:2\nlengthy:1\nprison:1\nsentences.:1\nunspoken:1\nconclusion::1\ncontinued:2\nfriendship:1\nfuel:1\nongoing:1\nfirestorm.:1\n\"it:3\ncrazy,\":1\n\"we:2\nkinda:1\n...:1\nissues.\":1\njuly:1\n4,:1\n2003,:1\nassault:1\nreleased:1\n$25,000:1\nbond.:1\nendorsements:1\nevaporate.:1\nthough:1\ndropped:1\nsettles:1\ncivil:1\nsuit:1\nundisclosed:1\nsum:1\nrequires:1\napologize:1\nadmission:1\nguilt:1\nvictim:1\nfound:1\nguilty:1\njune:1\n13,:1\n2005,:1\nimages:1\nshattered.:1\ncrush:1\npublic:2\nbacklash:1\ndevastating:2\nblow:1\nrecovers.:1\nthough,:1\ngoes:1\nway,:1\nanointing:1\nnew:1\nnickname,:1\nblack:2\nmamba,:2\npoisonous:1\nsnake.:1\ntoday:2\nremains:1\nsteadfast:1\nsupport:1\n\"one:1\nreasons:1\nadmire:1\ntook:1\nnegative:1\nturned:1\npositive,\":1\nchanged:2\nlife.:1\ndedicate:1\nsure:2\nincident:1\ndefine:1\nhim.\":2\nhardly:2\nrepresents:1\nconventional:1\nsentiment.:1\nhatred:1\nhurled:1\narena.:1\nturn,:3\nrevels:1\nconcerned:1\nreaches:1\nout,:2\nimploring:1\ntap:1\nhumility:1\nthing:4\nexists.:1\n\"find:1\nit,\":1\nsave:1\nyou.\":2\n8th:1\ngrade,:1\nwrote:1\nreport:1\nlew:1\nalcindor,:1\nbecome:1\nkareem:4\nabdul-jabbar.:1\nnine:1\nla,:1\nabdul-jabbar:2\napparition,:1\ndisconnected:1\nfranchise:1\nhelped:1\nlead:1\nglory.:1\nchanges:1\nhire:1\n2005:1\nwork:2\nandrew:1\nbynum.:1\nsuddenly,:1\naround:2\nday,:1\nlegend:3\narmed:1\nusual:1\narray:1\nquestions,:2\nveritable:1\nseagull.:1\nbridge:1\ngenerations:1\nbetween:1\nplaying:2\nrobertson:1\njohnson?:1\nbucks:1\nsustain:1\nits:1\n20-game:1\nwinning:2\nstreak:1\n1970-71:1\nchampionship:1\nseason?:1\nmesmerized:1\nkareem's:1\nphilosophies:1\nmind:1\nconnects:1\nbody:1\nstories:1\nsparring:1\nmartial:1\narts:1\nbruce:3\nlee.:1\n\"kareem:1\nfind:1\nhim,'\":1\n\"he'd:1\nhit:1\nhere,:1\nlunge:1\nhere:1\nagain.:2\nget:1\nhands:1\nexercise:1\nspacing,:1\nagility:2\nvision.\":1\ncomes:2\ncrave:1\ntalks:1\nabdul-jabbar,:1\nwhose:2\nreputation:1\nunapproachable:1\nstop:1\nbryant.:1\n\"so:1\naloof,\":1\n\"and:3\nsupposed:1\na--hole:1\nsteve:2\nkerr:1\ncry.:1\nme.:1\ncry:1\ntoo.\":1\nindeed:1\ndid.:2\nperhaps:1\nyou've:1\nlegendary:1\ntale:1\nelbowed:1\nsasha:1\nvujacic:2\n2004-05:1\npractice,:1\ncausing:1\nburst:1\ntears?:1\nincident,:1\ncalls:2\nseeking:1\ncounsel.:1\nwonders::1\ngone:1\nfar?:1\n\"sometimes:2\na--hole,\":1\nhate:1\nyou,:3\nluc:1\nlongley,:1\nkerr,:1\njud:1\nbuechler:1\nmultiple:1\nchampionships,:1\npretty:1\nunderstand.\":1\ncareer:2\nunfolds,:1\ncontinues:1\nseek:2\ninsight:1\npersonal:1\nmount:2\nrushmore:1\nlegends.:1\njohnson,:1\npart-owner:1\nmailbox:1\nproves:1\nperpetually:1\nfull.:1\nwhatever:1\nreason,:1\ntrouble:1\nwinter:1\n2009,:1\ncoming:1\ncrushing:1\nfinals:1\nloss:2\nceltics:3\nprevious:1\nhours:1\npractice:1\nfacility:1\ndiscovers:1\nsitting:1\nbreakfast:1\nroom.:1\nsit:1\ntogether,:1\nalone,:1\nhours,:2\nchastising:1\npress,:1\nchallenging:1\ninfluence:2\ncommunity.:1\nbreakthrough:1\nmoment:1\nus,\":1\n\"at:2\ntime,:1\nsaying,:1\n'i'm:1\njob,:1\nout.':1\n'no,:1\nthat.':1\n'what:1\nlegacy:1\nlook:1\nlike?:1\nkilling:1\neverybody.'\":1\nlistens,:1\ncounters.:1\n\"my:1\npersonality:1\nyours.'\":1\n\"that's:1\nfine,\":1\n\"nobody's:1\nsaying:2\nsmiling,:1\nhugging:1\npeople.:1\nthat's:2\nyou.:1\nstay:1\neffect:1\nchange:2\nbasking:1\nglow:1\nfourth:1\nchampionship,:1\nvictory:1\ndwight:1\nhoward:1\nmagic,:1\njingles.:1\ncall:3\nkatherine,:1\nhappy:1\nson:1\n\"proven:1\neveryone:1\nwrong.\":1\nalthough:1\nhasn't:1\nyears,:1\nkatherine:1\nplanning:1\ncomeback:1\ntour,:1\nwants:2\nexperience.:1\nready:1\nrehearse:1\nforum,\":1\ntalked:1\nwatching:1\neach:2\ntrain:1\nprepare.\":1\ninstead,:1\ndays:2\nreads:1\nbreaking-news:1\ncrawl:1\ntv,:1\ninforming:1\ndied.:1\nprobably:1\nbiggest:1\nmentor:1\ni've:1\nhad,\":1\n\"that:1\nliterally:1\nlife.\":1\n\"greatest:1\nlife\":1\ngone.:1\nyet:1\nbizarre:1\ntroubling:1\nbehavior:1\nfinal:1\nshadow:1\nsavant:1\nsummoned:1\ndecade:1\nbefore:2\ndoes:1\nnothing:1\nopinion:1\nnormal,\":1\n\"most:1\ngeniuses:1\naren't.\":1\nsummer,:1\nnow:1\n31,:1\nnotices:1\nlift:1\nexplosive:1\nwas.:1\npops:1\nopen:1\nlaptop:1\nemails:1\nrockets:1\nhakeem:1\nolajuwon,:2\nmaster:1\nlow:1\npost.:2\nmentioned:1\nolajuwon:3\nthought:1\nway:1\n[give:1\nme]:1\ncompliment.\":1\nflies:1\nolajuwon's:1\nkaty,:1\ntexas,:1\nplane.:1\nall::1\ndrop:1\nstep,:1\nfallaway,:1\ndream:2\nshake.:1\nfour:1\nimplements:1\nmoves,:1\ndrive,:2\nstop,:2\npivot,:2\nrelease.:2\nslow,:1\nmove:1\ndown.:1\nquickness:1\ncreate:1\nroom:1\nawkward:1\nnatural:1\nmovement,\":1\n\"but:1\ndone:1\nfluid.:1\nquickly:1\nunbelievable.\":1\nworked:1\nhoward,:1\nyao:1\nming:1\nlebron,:2\namong:1\nothers::1\n\"kobe:1\nfastest:1\nmost.\":1\nfamous:1\narrogance?:1\nego,:1\nranch.\":1\nlarry:1\ngolf:1\ncourse,:1\nhiatus:1\njob:1\npresident:1\npacers,:1\nrings.:1\n\"hey,:1\nminute?\":1\nalways:2\ncurious:1\nroutine,:1\npregame:1\npreparation,:1\noffseason:1\nconditioning.:1\nasks:1\nhandled:1\nperform:1\n(bird:1\n\"sissies\":1\n1984:1\nfinals.):1\n\"larry:1\n'you:1\nwhy:1\nindividual:1\nsports.'\":1\n2016,:1\n19:1\nunexpected:1\ngym,:1\naway:1\nretirement.:1\nlonger:1\nseeks:1\ngame's:1\nstars;:1\nanthony:1\ndavis,:1\nwestbrook,:1\nkevin:1\ndurant:1\nkyrie:1\nirving.:1\ngets:1\nthose:3\ncalls,:1\nthing::1\nask:1\nanother:1\ncarry:1\nlearn.:1\nsometimes,:1\nbelieve:1\nhow,:1\ncommitted:1\naccomplishments:1\ngreats:1\nmemory.:1\nthriller:1\nover,:1\nreciting:1\nlyrics:1\nthen,:1\n18:1\nold,:1\nbecomes:1\nmentor,\":1\nthat,:1\n'if:1\ncall.':1\nmean,:1\nseriously?:1\nsimply:1\ncannot:1\nf---:1\nup.\":1\nhaters:1\nargue:1\nshould:1\ngreater,:1\ncontend:1\ncommuning:1\nrushmore,:1\nengaged:1\nself-sabotage.:1\nsuperstar,:1\nunloved:1\nmany:1\nresented:1\nacolytes,:1\nspurned:1\nfans:1\nshaq.:1\nbegs:1\ndiffer.:1\nalone,\":1\ngame.\":1\n"
    }
   ],
   "source": [
    "freq = nltk.FreqDist(words)\n",
    "\n",
    "for key, val in freq.items():\n",
    "    print(str(key) + ':' + str(val))"
   ]
  },
  {
   "cell_type": "code",
   "execution_count": 48,
   "metadata": {},
   "outputs": [
    {
     "output_type": "stream",
     "name": "stderr",
     "text": "[nltk_data] Downloading package stopwords to\n[nltk_data]     C:\\Users\\bxiao\\AppData\\Roaming\\nltk_data...\n[nltk_data]   Unzipping corpora\\stopwords.zip.\n"
    }
   ],
   "source": [
    "from nltk.corpus import stopwords\n",
    "nltk.download('stopwords')\n",
    "\n",
    "sr = stopwords.words('english')"
   ]
  },
  {
   "cell_type": "code",
   "execution_count": 79,
   "metadata": {},
   "outputs": [],
   "source": [
    "cleaned_word_list = words[:]\n",
    "\n",
    "for word in lines:\n",
    "    if word in sr:\n",
    "        cleaned_word_list.remove(word)"
   ]
  },
  {
   "cell_type": "code",
   "execution_count": 80,
   "metadata": {},
   "outputs": [
    {
     "output_type": "execute_result",
     "data": {
      "text/plain": "['by',\n 'the',\n 'time',\n 'he',\n 'was',\n '14,',\n 'kobe',\n 'bryant',\n 'had',\n 'made',\n 'up',\n 'his',\n 'mind:',\n 'his',\n 'quest',\n 'for',\n 'basketball',\n 'greatness',\n 'would',\n 'be',\n 'a',\n 'solitary',\n 'journey.',\n 'it',\n 'was']"
     },
     "metadata": {},
     "execution_count": 80
    }
   ],
   "source": [
    "cleaned_word_list[:25]"
   ]
  },
  {
   "cell_type": "markdown",
   "metadata": {},
   "source": [
    "# Tokenizing text"
   ]
  },
  {
   "cell_type": "code",
   "execution_count": 91,
   "metadata": {},
   "outputs": [],
   "source": [
    "from nltk.tokenize import sent_tokenize\n",
    "from nltk.tokenize import word_tokenize"
   ]
  },
  {
   "cell_type": "code",
   "execution_count": 83,
   "metadata": {},
   "outputs": [
    {
     "output_type": "execute_result",
     "data": {
      "text/plain": "''"
     },
     "metadata": {},
     "execution_count": 83
    }
   ],
   "source": [
    "lines[1]"
   ]
  },
  {
   "cell_type": "code",
   "execution_count": 86,
   "metadata": {},
   "outputs": [
    {
     "output_type": "stream",
     "name": "stderr",
     "text": "[nltk_data] Downloading package punkt to\n[nltk_data]     C:\\Users\\bxiao\\AppData\\Roaming\\nltk_data...\n[nltk_data]   Unzipping tokenizers\\punkt.zip.\n"
    },
    {
     "output_type": "execute_result",
     "data": {
      "text/plain": "True"
     },
     "metadata": {},
     "execution_count": 86
    }
   ],
   "source": [
    "nltk.download('punkt')"
   ]
  },
  {
   "cell_type": "code",
   "execution_count": 90,
   "metadata": {},
   "outputs": [
    {
     "output_type": "stream",
     "name": "stdout",
     "text": "['BY THE TIME he was 14, Kobe Bryant had made up his mind: His quest for basketball greatness would be a solitary journey.']\n"
    }
   ],
   "source": [
    "print(sent_tokenize(lines[0]))"
   ]
  },
  {
   "cell_type": "code",
   "execution_count": 92,
   "metadata": {},
   "outputs": [
    {
     "output_type": "stream",
     "name": "stdout",
     "text": "['BY', 'THE', 'TIME', 'he', 'was', '14', ',', 'Kobe', 'Bryant', 'had', 'made', 'up', 'his', 'mind', ':', 'His', 'quest', 'for', 'basketball', 'greatness', 'would', 'be', 'a', 'solitary', 'journey', '.']\n"
    }
   ],
   "source": [
    "print(word_tokenize(lines[0]))"
   ]
  },
  {
   "cell_type": "code",
   "execution_count": 93,
   "metadata": {},
   "outputs": [],
   "source": [
    "from nltk.stem import PorterStemmer"
   ]
  },
  {
   "cell_type": "code",
   "execution_count": null,
   "metadata": {},
   "outputs": [],
   "source": [
    "# Stem words and redo countg"
   ]
  }
 ]
}